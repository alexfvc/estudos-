{
 "cells": [
  {
   "cell_type": "code",
   "execution_count": 31,
   "id": "b7ce9800",
   "metadata": {},
   "outputs": [],
   "source": [
    "import qrcode"
   ]
  },
  {
   "cell_type": "code",
   "execution_count": 32,
   "id": "473341bd",
   "metadata": {
    "scrolled": true
   },
   "outputs": [],
   "source": [
    "img1 = qrcode.make('https://docs.google.com/forms/d/e/1FAIpQLSeeAA8JCMFOyiMnIIGxlD85HsCL23DDYVMa6bnIFgo7JVTDBA/viewform')\n",
    "img2 = qrcode.make('https://docs.google.com/forms/d/e/1FAIpQLSekgI6wiD5f45p2bpOIxHerJaNgg4YE41jJGI83UaTIq8WFIQ/viewform')\n",
    "img3 = qrcode.make('https://docs.google.com/forms/d/e/1FAIpQLSe6b1KkLtQVdbR5ygqaltcGJEzDTEAhUV94WzYYZQ6HG1bb_w/viewform')\n",
    "\n",
    "# <class 'qrcode.image.pil.PilImage'>\n",
    "# (330,330)"
   ]
  },
  {
   "cell_type": "code",
   "execution_count": 33,
   "id": "285d8a6a",
   "metadata": {},
   "outputs": [
    {
     "name": "stdout",
     "output_type": "stream",
     "text": [
      "<class 'qrcode.image.pil.PilImage'>\n",
      "(490, 490)\n"
     ]
    }
   ],
   "source": [
    "print(type(img1))\n",
    "print(img1.size)\n"
   ]
  },
  {
   "cell_type": "code",
   "execution_count": 34,
   "id": "e4b3faa6",
   "metadata": {},
   "outputs": [
    {
     "name": "stdout",
     "output_type": "stream",
     "text": [
      "<class 'qrcode.image.pil.PilImage'>\n",
      "(490, 490)\n"
     ]
    }
   ],
   "source": [
    "print(type(img2))\n",
    "print(img2.size)\n"
   ]
  },
  {
   "cell_type": "code",
   "execution_count": 35,
   "id": "9f12b11b",
   "metadata": {},
   "outputs": [
    {
     "name": "stdout",
     "output_type": "stream",
     "text": [
      "<class 'qrcode.image.pil.PilImage'>\n",
      "(490, 490)\n"
     ]
    }
   ],
   "source": [
    "print(type(img3))\n",
    "print(img3.size)\n"
   ]
  },
  {
   "cell_type": "code",
   "execution_count": 36,
   "id": "04136ee5",
   "metadata": {},
   "outputs": [],
   "source": [
    "img1.save('qrc_1.png')\n",
    "img2.save('qrc_2.png')\n",
    "img3.save('qrc_3.png')"
   ]
  },
  {
   "cell_type": "code",
   "execution_count": 37,
   "id": "88549943",
   "metadata": {},
   "outputs": [
    {
     "data": {
      "text/plain": [
       "['__class__',\n",
       " '__delattr__',\n",
       " '__dict__',\n",
       " '__dir__',\n",
       " '__doc__',\n",
       " '__eq__',\n",
       " '__format__',\n",
       " '__ge__',\n",
       " '__getattr__',\n",
       " '__getattribute__',\n",
       " '__gt__',\n",
       " '__hash__',\n",
       " '__init__',\n",
       " '__init_subclass__',\n",
       " '__le__',\n",
       " '__lt__',\n",
       " '__module__',\n",
       " '__ne__',\n",
       " '__new__',\n",
       " '__reduce__',\n",
       " '__reduce_ex__',\n",
       " '__repr__',\n",
       " '__setattr__',\n",
       " '__sizeof__',\n",
       " '__str__',\n",
       " '__subclasshook__',\n",
       " '__weakref__',\n",
       " '_idr',\n",
       " '_img',\n",
       " 'allowed_kinds',\n",
       " 'border',\n",
       " 'box_size',\n",
       " 'check_kind',\n",
       " 'drawrect',\n",
       " 'fill_color',\n",
       " 'get_image',\n",
       " 'kind',\n",
       " 'new_image',\n",
       " 'pixel_box',\n",
       " 'pixel_size',\n",
       " 'save',\n",
       " 'width']"
      ]
     },
     "execution_count": 37,
     "metadata": {},
     "output_type": "execute_result"
    }
   ],
   "source": [
    "dir(img1)"
   ]
  },
  {
   "cell_type": "code",
   "execution_count": null,
   "id": "346f7f1c",
   "metadata": {},
   "outputs": [],
   "source": []
  }
 ],
 "metadata": {
  "kernelspec": {
   "display_name": "Python 3 (ipykernel)",
   "language": "python",
   "name": "python3"
  },
  "language_info": {
   "codemirror_mode": {
    "name": "ipython",
    "version": 3
   },
   "file_extension": ".py",
   "mimetype": "text/x-python",
   "name": "python",
   "nbconvert_exporter": "python",
   "pygments_lexer": "ipython3",
   "version": "3.9.12"
  }
 },
 "nbformat": 4,
 "nbformat_minor": 5
}
